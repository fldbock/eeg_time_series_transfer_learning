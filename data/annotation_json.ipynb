{
 "cells": [
  {
   "cell_type": "markdown",
   "metadata": {},
   "source": [
    "# TUSZ"
   ]
  },
  {
   "cell_type": "code",
   "execution_count": null,
   "metadata": {},
   "outputs": [],
   "source": [
    "import json"
   ]
  },
  {
   "cell_type": "code",
   "execution_count": 4,
   "metadata": {},
   "outputs": [
    {
     "ename": "FileNotFoundError",
     "evalue": "[Errno 2] No such file or directory: 'JSON_files/TUSL/TUSL_annotations.txt'",
     "output_type": "error",
     "traceback": [
      "\u001b[0;31m---------------------------------------------------------------------------\u001b[0m",
      "\u001b[0;31mFileNotFoundError\u001b[0m                         Traceback (most recent call last)",
      "\u001b[0;32m<ipython-input-4-de71f17a9748>\u001b[0m in \u001b[0;36m<module>\u001b[0;34m\u001b[0m\n\u001b[1;32m      1\u001b[0m \u001b[0;31m# Open annotation file\u001b[0m\u001b[0;34m\u001b[0m\u001b[0;34m\u001b[0m\u001b[0;34m\u001b[0m\u001b[0m\n\u001b[0;32m----> 2\u001b[0;31m \u001b[0mannotations\u001b[0m \u001b[0;34m=\u001b[0m \u001b[0mopen\u001b[0m\u001b[0;34m(\u001b[0m\u001b[0;34m\"JSON_files/TUSL/TUSL_annotations.txt\"\u001b[0m\u001b[0;34m,\u001b[0m \u001b[0;34m'r'\u001b[0m\u001b[0;34m)\u001b[0m\u001b[0;34m\u001b[0m\u001b[0;34m\u001b[0m\u001b[0m\n\u001b[0m\u001b[1;32m      3\u001b[0m \u001b[0mlines\u001b[0m \u001b[0;34m=\u001b[0m \u001b[0mannotations\u001b[0m\u001b[0;34m.\u001b[0m\u001b[0mreadlines\u001b[0m\u001b[0;34m(\u001b[0m\u001b[0;34m)\u001b[0m\u001b[0;34m\u001b[0m\u001b[0;34m\u001b[0m\u001b[0m\n",
      "\u001b[0;31mFileNotFoundError\u001b[0m: [Errno 2] No such file or directory: 'JSON_files/TUSL/TUSL_annotations.txt'"
     ]
    }
   ],
   "source": [
    "# Open annotation file\n",
    "annotations = open(\"JSON_files/TUSZ/TUSZ_annotations.txt\", 'r')\n",
    "lines = annotations.readlines()"
   ]
  },
  {
   "cell_type": "code",
   "execution_count": 8,
   "metadata": {},
   "outputs": [],
   "source": [
    "dir_restructured = {} \n",
    "for line in lines:\n",
    "    line = line.split(' ')\n",
    "    file_name = line[0]\n",
    "    start_time = line[1]\n",
    "    end_time = line[2]\n",
    "    diagnosis = line[3]\n",
    "    \n",
    "    if file_name not in dir_restructured:\n",
    "        dir_restructured[file_name] = []\n",
    "    value = start_time + \" \" + end_time + \" \" + diagnosis\n",
    "    dir_restructured[file_name].append(value)"
   ]
  },
  {
   "cell_type": "code",
   "execution_count": 9,
   "metadata": {},
   "outputs": [],
   "source": [
    "with open(\"JSON_files/TUSZ/TUSZ_annotations.json\", \"w\") as f:\n",
    "    f.write(json.dumps(dir_restructured, indent=4))"
   ]
  },
  {
   "cell_type": "markdown",
   "metadata": {},
   "source": [
    "# TUSL"
   ]
  },
  {
   "cell_type": "code",
   "execution_count": 3,
   "metadata": {},
   "outputs": [],
   "source": [
    "import json"
   ]
  },
  {
   "cell_type": "code",
   "execution_count": 4,
   "metadata": {},
   "outputs": [],
   "source": [
    "with open(\"JSON_files/TUSL/TUSL_type.json\", \"r\") as f:\n",
    "    dir_structure = json.load(f)"
   ]
  },
  {
   "cell_type": "code",
   "execution_count": 13,
   "metadata": {},
   "outputs": [],
   "source": [
    "from urllib import request\n",
    "def get_lines(edf_url):\n",
    "    try:\n",
    "        # Define password manager and authentication handler to log in to TUH EEG Corpus download page\n",
    "        password_mgr = request.HTTPPasswordMgrWithDefaultRealm()\n",
    "        password_mgr.add_password(None, edf_url, \"nedc\", \"nedc_resources\")\n",
    "        auth_handler = request.HTTPBasicAuthHandler(password_mgr)\n",
    "\n",
    "        # Open directory url with defined authentication handler\n",
    "        url_opener = request.build_opener(auth_handler)\n",
    "        req = request.Request(edf_url)\n",
    "\n",
    "        # Retrieve edf file's first 10000 bytes \n",
    "        edf_bytes = url_opener.open(req).read()\n",
    "        edf_bytes = str(edf_bytes)\n",
    "        lines = edf_bytes.split(\"\\\\n\")\n",
    "        return lines\n",
    "    except:\n",
    "        return []"
   ]
  },
  {
   "cell_type": "code",
   "execution_count": 21,
   "metadata": {},
   "outputs": [
    {
     "name": "stdout",
     "output_type": "stream",
     "text": [
      "s005_2010_11_15\n",
      "s007_2013_03_25\n",
      "s003_2003_07_18\n",
      "s005_2003_04_27\n",
      "s016_2012_03_01\n",
      "s017_2012_03_02\n",
      "s018_2013_01_22\n",
      "s002_2004_07_16\n",
      "s002_2006_03_01\n",
      "s003_2013_08_07\n",
      "s003_2010_04_26\n",
      "s003_2012_01_05\n",
      "s004_2012_06_21\n",
      "s001_2010_04_17\n",
      "s002_2010_04_17\n",
      "s003_2010_04_18\n",
      "s004_2010_04_18\n",
      "s005_2010_04_19\n",
      "s028_2010_06_30\n",
      "s004_2012_07_17\n",
      "s005_2012_07_18\n",
      "s001_2010_02_12\n",
      "s002_2010_02_12\n",
      "s005_2011_10_18\n",
      "s001_2011_11_07\n",
      "s012_2012_07_27\n",
      "s013_2013_02_23\n",
      "s001_2011_09_28\n",
      "s002_2012_03_18\n",
      "s001_2012_10_21\n",
      "s003_2012_10_22\n",
      "s006_2012_10_24\n",
      "s001_2012_01_13\n",
      "s006_2013_06_06\n",
      "s002_2012_05_12\n",
      "s001_2012_10_10\n",
      "s002_2012_10_10\n",
      "s004_2012_10_11\n",
      "s005_2012_10_19\n",
      "s008_2012_10_22\n",
      "s001_2012_11_19\n",
      "s001_2013_02_04\n",
      "s008_2013_03_15\n",
      "s001_2013_01_14\n",
      "s003_2013_01_14\n",
      "s004_2013_01_15\n",
      "s005_2013_01_16\n",
      "s003_2013_06_08\n",
      "s008_2013_06_14\n",
      "s009_2013_06_17\n",
      "s001_2013_06_14\n",
      "s001_2013_06_14\n",
      "s002_2013_07_09\n",
      "s004_2013_07_18\n",
      "s001_2003_09_24\n",
      "s002_2003_07_18\n",
      "s001_2003_04_28\n",
      "s002_2003_04_28\n",
      "s001_2004_07_14\n",
      "s001_2006_03_01\n",
      "s005_2006_03_23\n",
      "s002_2004_12_23\n",
      "s003_2004_12_28\n",
      "s001_2007_03_26\n",
      "s002_2008_02_01\n",
      "s001_2008_02_11\n",
      "s002_2008_02_12\n",
      "s003_2008_02_14\n",
      "s001_2009_04_03\n",
      "s001_2010_01_03\n",
      "s007_2010_05_03\n",
      "s008_2010_05_03\n",
      "s020_2010_05_17\n",
      "s001_2011_02_24\n",
      "s001_2011_07_25\n"
     ]
    }
   ],
   "source": [
    "dir_restructured = {}\n",
    "for machine_type in dir_structure.keys():\n",
    "    for patient_id in dir_structure[machine_type].keys():\n",
    "        for session in dir_structure[machine_type][patient_id].keys():\n",
    "            print(session)\n",
    "            #Gather data\n",
    "            file_name = \"\"\n",
    "            file_number = -1\n",
    "            for file in dir_structure[machine_type][patient_id][session].keys():\n",
    "                file = dir_structure[machine_type][patient_id][session][file]                \n",
    "                if file[-4:] == '.edf':\n",
    "                    file_name = file\n",
    "                    file_number += 1\n",
    "                elif file[-4:] == '.tse':\n",
    "                    values = []\n",
    "                    lines = get_lines(file)\n",
    "                    for line in lines:\n",
    "                        if line == \"'\" or line == \"\" or line.find('version') > -1:\n",
    "                            pass\n",
    "                        else:\n",
    "                            line = line.split(' ')\n",
    "                            start_time = line[0]\n",
    "                            end_time = line[1]\n",
    "                            diagnosis = line[2]\n",
    "                            value = str(file_number) + \" \" + start_time + \" \" + end_time + \" \" + diagnosis\n",
    "                            values.append(value)\n",
    "                    #dump in JSON file\n",
    "                    if file_name not in dir_restructured:\n",
    "                        dir_restructured[file_name] = []\n",
    "                    for value in values:\n",
    "                        dir_restructured[file_name].append(value)     \n",
    "                    \n",
    "                else:\n",
    "                    print(file)\n",
    "                    print(\"Error: Something other than .edf file or .tse file detected. This error is written by Flor.\")                   \n",
    "                          "
   ]
  },
  {
   "cell_type": "code",
   "execution_count": 13,
   "metadata": {},
   "outputs": [],
   "source": [
    "with open(\"JSON_files/TUSL/TUSL_annotations.json\", \"w\") as f:\n",
    "    f.write(json.dumps(dir_restructured, indent=4))"
   ]
  },
  {
   "cell_type": "code",
   "execution_count": 22,
   "metadata": {},
   "outputs": [],
   "source": [
    "dir_restructured2 = {}\n",
    "for element in dir_restructured:\n",
    "    new_element = str(element)\n",
    "    new_element = new_element.split('/')\n",
    "    new_element = new_element[-1]\n",
    "    new_element = new_element[:-4]\n",
    "    dir_restructured2[new_element] = dir_restructured[element]"
   ]
  },
  {
   "cell_type": "code",
   "execution_count": 23,
   "metadata": {},
   "outputs": [],
   "source": [
    "with open(\"JSON_files/TUSL/TUSL_annotations.json\", \"w\") as f:\n",
    "    f.write(json.dumps(dir_restructured2, indent=4))"
   ]
  },
  {
   "cell_type": "code",
   "execution_count": null,
   "metadata": {},
   "outputs": [],
   "source": []
  }
 ],
 "metadata": {
  "environment": {
   "name": "tf2-2-2-gpu.2-2.m50",
   "type": "gcloud",
   "uri": "gcr.io/deeplearning-platform-release/tf2-2-2-gpu.2-2:m50"
  },
  "kernelspec": {
   "display_name": "Python 3",
   "language": "python",
   "name": "python3"
  },
  "language_info": {
   "codemirror_mode": {
    "name": "ipython",
    "version": 3
   },
   "file_extension": ".py",
   "mimetype": "text/x-python",
   "name": "python",
   "nbconvert_exporter": "python",
   "pygments_lexer": "ipython3",
   "version": "3.7.6"
  }
 },
 "nbformat": 4,
 "nbformat_minor": 4
}
