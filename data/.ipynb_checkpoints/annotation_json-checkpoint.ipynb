{
 "cells": [
  {
   "cell_type": "markdown",
   "metadata": {},
   "source": [
    "# TUSZ"
   ]
  },
  {
   "cell_type": "code",
   "execution_count": null,
   "metadata": {},
   "outputs": [],
   "source": [
    "import json"
   ]
  },
  {
   "cell_type": "code",
   "execution_count": 4,
   "metadata": {},
   "outputs": [
    {
     "ename": "FileNotFoundError",
     "evalue": "[Errno 2] No such file or directory: 'JSON_files/TUSL/TUSL_annotations.txt'",
     "output_type": "error",
     "traceback": [
      "\u001b[0;31m---------------------------------------------------------------------------\u001b[0m",
      "\u001b[0;31mFileNotFoundError\u001b[0m                         Traceback (most recent call last)",
      "\u001b[0;32m<ipython-input-4-de71f17a9748>\u001b[0m in \u001b[0;36m<module>\u001b[0;34m\u001b[0m\n\u001b[1;32m      1\u001b[0m \u001b[0;31m# Open annotation file\u001b[0m\u001b[0;34m\u001b[0m\u001b[0;34m\u001b[0m\u001b[0;34m\u001b[0m\u001b[0m\n\u001b[0;32m----> 2\u001b[0;31m \u001b[0mannotations\u001b[0m \u001b[0;34m=\u001b[0m \u001b[0mopen\u001b[0m\u001b[0;34m(\u001b[0m\u001b[0;34m\"JSON_files/TUSL/TUSL_annotations.txt\"\u001b[0m\u001b[0;34m,\u001b[0m \u001b[0;34m'r'\u001b[0m\u001b[0;34m)\u001b[0m\u001b[0;34m\u001b[0m\u001b[0;34m\u001b[0m\u001b[0m\n\u001b[0m\u001b[1;32m      3\u001b[0m \u001b[0mlines\u001b[0m \u001b[0;34m=\u001b[0m \u001b[0mannotations\u001b[0m\u001b[0;34m.\u001b[0m\u001b[0mreadlines\u001b[0m\u001b[0;34m(\u001b[0m\u001b[0;34m)\u001b[0m\u001b[0;34m\u001b[0m\u001b[0;34m\u001b[0m\u001b[0m\n",
      "\u001b[0;31mFileNotFoundError\u001b[0m: [Errno 2] No such file or directory: 'JSON_files/TUSL/TUSL_annotations.txt'"
     ]
    }
   ],
   "source": [
    "# Open annotation file\n",
    "annotations = open(\"JSON_files/TUSZ/TUSZ_annotations.txt\", 'r')\n",
    "lines = annotations.readlines()"
   ]
  },
  {
   "cell_type": "code",
   "execution_count": 8,
   "metadata": {},
   "outputs": [],
   "source": [
    "dir_restructured = {} \n",
    "for line in lines:\n",
    "    line = line.split(' ')\n",
    "    file_name = line[0]\n",
    "    start_time = line[1]\n",
    "    end_time = line[2]\n",
    "    diagnosis = line[3]\n",
    "    \n",
    "    if file_name not in dir_restructured:\n",
    "        dir_restructured[file_name] = []\n",
    "    value = start_time + \" \" + end_time + \" \" + diagnosis\n",
    "    dir_restructured[file_name].append(value)"
   ]
  },
  {
   "cell_type": "code",
   "execution_count": 9,
   "metadata": {},
   "outputs": [],
   "source": [
    "with open(\"JSON_files/TUSZ/TUSZ_annotations.json\", \"w\") as f:\n",
    "    f.write(json.dumps(dir_restructured, indent=4))"
   ]
  },
  {
   "cell_type": "markdown",
   "metadata": {},
   "source": [
    "# TUSL"
   ]
  },
  {
   "cell_type": "code",
   "execution_count": 6,
   "metadata": {},
   "outputs": [],
   "source": [
    "with open(\"JSON_files/TUSL/TUSL_type.json\", \"r\") as f:\n",
    "    dir_structure = json.load(f)"
   ]
  },
  {
   "cell_type": "code",
   "execution_count": 9,
   "metadata": {},
   "outputs": [],
   "source": [
    "from urllib import request\n",
    "def get_lines(edf_url):\n",
    "    # Define password manager and authentication handler to log in to TUH EEG Corpus download page\n",
    "    password_mgr = request.HTTPPasswordMgrWithDefaultRealm()\n",
    "    password_mgr.add_password(None, edf_url, \"nedc\", \"nedc_resources\")\n",
    "    auth_handler = request.HTTPBasicAuthHandler(password_mgr)\n",
    "\n",
    "    # Open directory url with defined authentication handler\n",
    "    url_opener = request.build_opener(auth_handler)\n",
    "    req = request.Request(edf_url)\n",
    "\n",
    "    # Retrieve edf file's first 10000 bytes \n",
    "    edf_bytes = url_opener.open(req).read()\n",
    "    edf_bytes = str(edf_bytes)\n",
    "    lines = edf_bytes.split(\"\\\\n\")\n",
    "    return lines"
   ]
  },
  {
   "cell_type": "code",
   "execution_count": 10,
   "metadata": {},
   "outputs": [],
   "source": [
    "dir_restructured = {}\n",
    "for machine_type in dir_structure.keys():\n",
    "    for patient_id in dir_structure[machine_type].keys():\n",
    "        for session in dir_structure[machine_type][patient_id].keys():\n",
    "            #Gather data\n",
    "            values = []\n",
    "            file_name = \"\"\n",
    "            for file in dir_structure[machine_type][patient_id][session].keys():\n",
    "                file = dir_structure[machine_type][patient_id][session][file]\n",
    "                if file[-4:] == '.edf':\n",
    "                    file_name = file\n",
    "                elif file[-4:] == '.tse':\n",
    "                    lines = get_lines(file)\n",
    "                    for line in lines:\n",
    "                        if line == \"'\" or line == \"\" or line.find('version') > -1:\n",
    "                            pass\n",
    "                        else:\n",
    "                            line = line.split(' ')\n",
    "                            start_time = line[0]\n",
    "                            end_time = line[1]\n",
    "                            diagnosis = line[2]\n",
    "                            value = start_time + \" \" + end_time + \" \" + diagnosis\n",
    "                            values.append(value)\n",
    "                else:\n",
    "                    print(file)\n",
    "                    print(\"Error: Something other than .edf file or .tse file detected. This error is written by Flor.\")\n",
    "                    \n",
    "            #dump in JSON file\n",
    "            if file_name not in dir_restructured:\n",
    "                dir_restructured[file_name] = []\n",
    "            for value in values:\n",
    "                dir_restructured[file_name].append(value)                   "
   ]
  },
  {
   "cell_type": "code",
   "execution_count": 13,
   "metadata": {},
   "outputs": [],
   "source": [
    "with open(\"JSON_files/TUSL/TUSL_annotations.json\", \"w\") as f:\n",
    "    f.write(json.dumps(dir_restructured, indent=4))"
   ]
  },
  {
   "cell_type": "code",
   "execution_count": 20,
   "metadata": {},
   "outputs": [],
   "source": [
    "dir_restructured2 = {}\n",
    "for element in dir_restructured:\n",
    "    new_element = str(element)\n",
    "    new_element = new_element.split('/')\n",
    "    new_element = new_element[-1]\n",
    "    new_element = new_element[:-4]\n",
    "    dir_restructured2[new_element] = dir_restructured[element]"
   ]
  },
  {
   "cell_type": "code",
   "execution_count": 21,
   "metadata": {},
   "outputs": [],
   "source": [
    "with open(\"JSON_files/TUSL/TUSL_annotations.json\", \"w\") as f:\n",
    "    f.write(json.dumps(dir_restructured2, indent=4))"
   ]
  },
  {
   "cell_type": "code",
   "execution_count": null,
   "metadata": {},
   "outputs": [],
   "source": []
  }
 ],
 "metadata": {
  "environment": {
   "name": "tf2-2-2-gpu.2-2.m50",
   "type": "gcloud",
   "uri": "gcr.io/deeplearning-platform-release/tf2-2-2-gpu.2-2:m50"
  },
  "kernelspec": {
   "display_name": "Python 3",
   "language": "python",
   "name": "python3"
  },
  "language_info": {
   "codemirror_mode": {
    "name": "ipython",
    "version": 3
   },
   "file_extension": ".py",
   "mimetype": "text/x-python",
   "name": "python",
   "nbconvert_exporter": "python",
   "pygments_lexer": "ipython3",
   "version": "3.7.6"
  }
 },
 "nbformat": 4,
 "nbformat_minor": 4
}
