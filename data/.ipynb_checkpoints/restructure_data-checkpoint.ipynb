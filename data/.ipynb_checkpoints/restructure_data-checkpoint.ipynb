{
 "cells": [
  {
   "cell_type": "code",
   "execution_count": 2,
   "metadata": {},
   "outputs": [],
   "source": [
    "import json"
   ]
  },
  {
   "cell_type": "code",
   "execution_count": 3,
   "metadata": {},
   "outputs": [],
   "source": [
    "# Define file structure dict\n",
    "with open('TUAB/TUAB.json', 'r') as f:\n",
    "    dir_structure = json.load(f)"
   ]
  },
  {
   "cell_type": "code",
   "execution_count": 4,
   "metadata": {},
   "outputs": [],
   "source": [
    "dir_restructured = {} \n",
    "\n",
    "for train_or_test in dir_structure.keys():\n",
    "    dir_restructured[train_or_test] = {}\n",
    "    for diagnosis in dir_structure[train_or_test].keys():\n",
    "        dir_restructured[train_or_test][diagnosis] = {}\n",
    "        for machine_type in dir_structure[train_or_test][diagnosis].keys():\n",
    "            dir_restructured[train_or_test][diagnosis][machine_type] = {}\n",
    "            for patient_folder in dir_structure[train_or_test][diagnosis][machine_type].keys():\n",
    "                dir_restructured[train_or_test][diagnosis][machine_type].update(dir_structure[train_or_test][diagnosis][machine_type][patient_folder])"
   ]
  },
  {
   "cell_type": "code",
   "execution_count": 5,
   "metadata": {},
   "outputs": [],
   "source": [
    "with open(\"TUAB/TUAB_type.json\", \"w\") as f:\n",
    "    f.write(json.dumps(dir_restructured, indent=4))"
   ]
  },
  {
   "cell_type": "code",
   "execution_count": null,
   "metadata": {},
   "outputs": [],
   "source": []
  }
 ],
 "metadata": {
  "environment": {
   "name": "tf2-2-2-gpu.2-2.m50",
   "type": "gcloud",
   "uri": "gcr.io/deeplearning-platform-release/tf2-2-2-gpu.2-2:m50"
  },
  "file_extension": ".py",
  "kernelspec": {
   "display_name": "Python 3",
   "language": "python",
   "name": "python3"
  },
  "language_info": {
   "codemirror_mode": {
    "name": "ipython",
    "version": 3
   },
   "file_extension": ".py",
   "mimetype": "text/x-python",
   "name": "python",
   "nbconvert_exporter": "python",
   "pygments_lexer": "ipython3",
   "version": "3.7.6"
  },
  "mimetype": "text/x-python",
  "name": "python",
  "npconvert_exporter": "python",
  "pygments_lexer": "ipython3",
  "version": 3
 },
 "nbformat": 4,
 "nbformat_minor": 4
}
